{
 "cells": [
  {
   "cell_type": "code",
   "execution_count": 1,
   "id": "136f8d89-b9cb-40c4-87fd-2501c3a17d05",
   "metadata": {},
   "outputs": [
    {
     "name": "stdout",
     "output_type": "stream",
     "text": [
      "42.0\n"
     ]
    }
   ],
   "source": [
    "# Convert a integer to a floatig-point number.\n",
    "\n",
    "#To convert an integer to a floating-point number in Python, you can use the float() function.\n",
    "\n",
    "integer_number = 42\n",
    "floating_point_number = float(integer_number)\n",
    "print(floating_point_number)  \n",
    "\n"
   ]
  },
  {
   "cell_type": "code",
   "execution_count": 2,
   "id": "6523fd5d-ffcc-4384-879f-922bfc39b317",
   "metadata": {},
   "outputs": [
    {
     "name": "stdout",
     "output_type": "stream",
     "text": [
      "42\n"
     ]
    }
   ],
   "source": [
    "# Convert a float to a integer.\n",
    "\n",
    "# To convert a float to an integer in Python, you can use the int() function\n",
    "\n",
    "floating_point_number = 42.5\n",
    "integer_number = int(floating_point_number)\n",
    "print(integer_number)  \n"
   ]
  },
  {
   "cell_type": "code",
   "execution_count": 3,
   "id": "b8add652-d916-4dee-a455-18fdc92f1059",
   "metadata": {},
   "outputs": [
    {
     "name": "stdout",
     "output_type": "stream",
     "text": [
      "42\n",
      "<class 'str'>\n"
     ]
    }
   ],
   "source": [
    "#   Convert a integer to a String.\n",
    "\n",
    "## To convert an integer to a string in Python, you can use the str() function.\n",
    "\n",
    "integer_number = 42\n",
    "string_number = str(integer_number)\n",
    "print(string_number)  \n",
    "print(type(string_number))  \n"
   ]
  },
  {
   "cell_type": "code",
   "execution_count": 4,
   "id": "4e983440-f692-4f59-ad39-8f04a84b5aa2",
   "metadata": {},
   "outputs": [
    {
     "name": "stdout",
     "output_type": "stream",
     "text": [
      "(1, 2, 3, 4, 5)\n",
      "<class 'tuple'>\n"
     ]
    }
   ],
   "source": [
    "##  Convert a list to a tuple.\n",
    "\n",
    "## To convert a list to a tuple in Python, you can use the tuple() function.\n",
    "\n",
    "my_list = [1, 2, 3, 4, 5]\n",
    "my_tuple = tuple(my_list)\n",
    "print(my_tuple) \n",
    "print(type(my_tuple))  \n"
   ]
  },
  {
   "cell_type": "code",
   "execution_count": 5,
   "id": "094e2e75-676d-47db-a9c4-c6aa036bc20a",
   "metadata": {},
   "outputs": [
    {
     "name": "stdout",
     "output_type": "stream",
     "text": [
      "[1, 2, 3, 4, 5]\n",
      "<class 'list'>\n"
     ]
    }
   ],
   "source": [
    "##  Convert a tuple to a list.\n",
    "\n",
    "## To convert a tuple to a list in Python, you can use the list() function. \n",
    "\n",
    "my_tuple = (1, 2, 3, 4, 5)\n",
    "my_list = list(my_tuple)\n",
    "print(my_list)  \n",
    "print(type(my_list))  \n"
   ]
  },
  {
   "cell_type": "code",
   "execution_count": 6,
   "id": "cabc6652-d73f-42d1-8632-bd25e1d7cb20",
   "metadata": {},
   "outputs": [
    {
     "name": "stdout",
     "output_type": "stream",
     "text": [
      "0b101010\n"
     ]
    }
   ],
   "source": [
    "## Convert a decimal number to binary.\n",
    "\n",
    "## To convert a decimal number to binary in Python, you can use the built-in bin() function, which returns the binary string representation of an integer.\n",
    "\n",
    "decimal_number = 42\n",
    "binary_representation = bin(decimal_number)\n",
    "print(binary_representation)  \n"
   ]
  },
  {
   "cell_type": "code",
   "execution_count": 7,
   "id": "ba03e209-71ae-49d9-80d3-e427c5e0af0a",
   "metadata": {},
   "outputs": [
    {
     "name": "stdout",
     "output_type": "stream",
     "text": [
      "101010\n"
     ]
    }
   ],
   "source": [
    "## If you want to remove the 0b prefix from the binary representation, you can slice the string as follows:\n",
    "\n",
    "binary_representation = bin(decimal_number)[2:]\n",
    "print(binary_representation) "
   ]
  },
  {
   "cell_type": "code",
   "execution_count": 8,
   "id": "5411bfa3-07dd-4d01-a364-38293801e294",
   "metadata": {},
   "outputs": [
    {
     "name": "stdout",
     "output_type": "stream",
     "text": [
      "True\n",
      "<class 'bool'>\n"
     ]
    }
   ],
   "source": [
    "## Convert a non-zero number to boolean.\n",
    "\n",
    "#To convert a non-zero number to a boolean in Python, you can use the bool() function. \n",
    "# In Python, any non-zero number is considered True when converted to a boolean.\n",
    "\n",
    "number = 42\n",
    "boolean_value = bool(number)\n",
    "print(boolean_value)  \n",
    "print(type(boolean_value))  \n",
    "\n"
   ]
  },
  {
   "cell_type": "code",
   "execution_count": null,
   "id": "7d750c6c-ce57-4325-a1f4-b84fd37d64c9",
   "metadata": {},
   "outputs": [],
   "source": []
  }
 ],
 "metadata": {
  "kernelspec": {
   "display_name": "Python 3 (ipykernel)",
   "language": "python",
   "name": "python3"
  },
  "language_info": {
   "codemirror_mode": {
    "name": "ipython",
    "version": 3
   },
   "file_extension": ".py",
   "mimetype": "text/x-python",
   "name": "python",
   "nbconvert_exporter": "python",
   "pygments_lexer": "ipython3",
   "version": "3.10.8"
  }
 },
 "nbformat": 4,
 "nbformat_minor": 5
}
